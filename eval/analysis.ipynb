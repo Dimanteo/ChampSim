{
 "cells": [
  {
   "cell_type": "markdown",
   "metadata": {},
   "source": [
    "## Branch prediction"
   ]
  },
  {
   "cell_type": "code",
   "execution_count": 2,
   "metadata": {},
   "outputs": [],
   "source": [
    "import matplotlib.pyplot as plt\n",
    "import json\n",
    "import os\n",
    "import numpy as np"
   ]
  },
  {
   "cell_type": "code",
   "execution_count": 17,
   "metadata": {},
   "outputs": [],
   "source": [
    "predictors = ['bimodal', 'markov', 'stochastic']\n",
    "\n",
    "def get_stats(stat_file):\n",
    "    with open(stat_file, 'r') as file:\n",
    "        json_data = json.load(file)\n",
    "        stats = json_data[0][\"roi\"][\"cores\"][0]\n",
    "        name = json_data[0]['traces'][0].split('/')[-1]\n",
    "    ipc = stats[\"instructions\"] / stats[\"cycles\"]\n",
    "    mpki = stats['mispredict']['BRANCH_CONDITIONAL'] / stats[\"instructions\"] * 10**3\n",
    "    return ipc, mpki, name\n",
    "\n",
    "results = {}\n",
    "for pred in predictors:\n",
    "    results[pred] = {}\n",
    "    for stat_file in os.listdir(pred):\n",
    "        stat_path = os.path.join(pred, stat_file)\n",
    "        ipc, mpki, name = get_stats(stat_path)\n",
    "        results[pred][name] = {'ipc' : ipc, 'mpki' : mpki}"
   ]
  },
  {
   "cell_type": "code",
   "execution_count": 18,
   "metadata": {},
   "outputs": [
    {
     "name": "stdout",
     "output_type": "stream",
     "text": [
      "bimodal\n",
      "\tIPC : 1.2018707084794091\n",
      "\tMPKI : 2.124059883538507\n",
      "markov\n",
      "\tIPC : 1.295595653186522\n",
      "\tMPKI : 1.7842025202974285\n",
      "stochastic\n",
      "\tIPC : 1.2018707084794091\n",
      "\tMPKI : 2.124059883538507\n"
     ]
    }
   ],
   "source": [
    "def geomean(data):\n",
    "    return np.power(np.prod(np.array(data)), 1 / len(data))\n",
    "\n",
    "for pred in predictors:\n",
    "    ipc = []\n",
    "    mpki = []\n",
    "    for (_, metrics) in results[pred].items():\n",
    "        ipc.append(metrics['ipc'])\n",
    "        mpki.append(metrics['mpki'])\n",
    "    ipc_gmean = geomean(ipc)\n",
    "    mpki_gmean = geomean(mpki)\n",
    "    print(f'{pred}\\n\\tIPC : {ipc_gmean}\\n\\tMPKI : {mpki_gmean}')"
   ]
  }
 ],
 "metadata": {
  "kernelspec": {
   "display_name": "Python 3",
   "language": "python",
   "name": "python3"
  },
  "language_info": {
   "codemirror_mode": {
    "name": "ipython",
    "version": 3
   },
   "file_extension": ".py",
   "mimetype": "text/x-python",
   "name": "python",
   "nbconvert_exporter": "python",
   "pygments_lexer": "ipython3",
   "version": "3.10.12"
  }
 },
 "nbformat": 4,
 "nbformat_minor": 2
}
