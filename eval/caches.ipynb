{
 "cells": [
  {
   "cell_type": "markdown",
   "metadata": {},
   "source": [
    "# L2 cache Pseudo LRU replacement"
   ]
  },
  {
   "cell_type": "code",
   "execution_count": 1,
   "metadata": {},
   "outputs": [],
   "source": [
    "import matplotlib.pyplot as plt\n",
    "import json\n",
    "import os\n",
    "import numpy as np"
   ]
  },
  {
   "cell_type": "code",
   "execution_count": 6,
   "metadata": {},
   "outputs": [],
   "source": [
    "politics = ['lru', 'plru']\n",
    "\n",
    "def get_hitrate(cache):\n",
    "    hit = cache[\"LOAD\"][\"hit\"][0]\n",
    "    miss = cache[\"LOAD\"][\"miss\"][0]\n",
    "    return hit / (hit + miss)\n",
    "\n",
    "\n",
    "def get_stats(stat_file):\n",
    "    with open(stat_file, 'r') as file:\n",
    "        json_data = json.load(file)\n",
    "        roi = json_data[0][\"roi\"]\n",
    "        stats = roi[\"cores\"][0]\n",
    "        name = json_data[0]['traces'][0].split('/')[-1]\n",
    "    ipc = stats[\"instructions\"] / stats[\"cycles\"]\n",
    "    hitrate = get_hitrate(roi[\"cpu0_L2C\"])\n",
    "    return ipc, hitrate, name\n",
    "\n",
    "results = {}\n",
    "for pol in politics:\n",
    "    results[pol] = {}\n",
    "    for stat_file in os.listdir(pol):\n",
    "        stat_path = os.path.join(pol, stat_file)\n",
    "        ipc, hitrate, name = get_stats(stat_path)\n",
    "        results[pol][name] = {'ipc' : ipc, 'hitrate' : hitrate}"
   ]
  },
  {
   "cell_type": "code",
   "execution_count": 8,
   "metadata": {},
   "outputs": [
    {
     "name": "stdout",
     "output_type": "stream",
     "text": [
      "lru\n",
      "\tIPC : 1.1746013523417302\n",
      "\thitrate : 0.1889834703816908\n",
      "plru\n",
      "\tIPC : 1.1756464977456504\n",
      "\thitrate : 0.19081997766713166\n"
     ]
    }
   ],
   "source": [
    "def geomean(data):\n",
    "    return np.power(np.prod(np.array(data)), 1 / len(data))\n",
    "\n",
    "for pol in politics:\n",
    "    ipc = []\n",
    "    hitrate = []\n",
    "    for (_, metrics) in results[pol].items():\n",
    "        ipc.append(metrics['ipc'])\n",
    "        hitrate.append(metrics['hitrate'])\n",
    "    ipc_gmean = geomean(ipc)\n",
    "    hitrate_gmean = geomean(hitrate)\n",
    "    print(f'{pol}\\n\\tIPC : {ipc_gmean}\\n\\thitrate : {hitrate_gmean}')"
   ]
  },
  {
   "cell_type": "code",
   "execution_count": 9,
   "metadata": {},
   "outputs": [
    {
     "data": {
      "image/png": "[encoded data removed]",
      "text/plain": [
       "<Figure size 1080x576 with 1 Axes>"
      ]
     },
     "metadata": {
      "needs_background": "light"
     },
     "output_type": "display_data"
    }
   ],
   "source": [
    "benches = list(results[politics[0]])\n",
    "pol_ipc = {}\n",
    "for pol, metrics in results.items():\n",
    "    pol_ipc[pol] = []\n",
    "    for bench in benches:\n",
    "        pol_ipc[pol].append(results[pol][bench]['ipc'])\n",
    "benches.append('gmean')\n",
    "for pol in pol_ipc:\n",
    "    gmean = geomean(pol_ipc[pol])\n",
    "    pol_ipc[pol].append(gmean)\n",
    "\n",
    "fig, ax =  plt.subplots()\n",
    "fig.set_figwidth(15)\n",
    "fig.set_figheight(8)\n",
    "ax.grid()\n",
    "x = np.arange(len(benches))\n",
    "width = 0.25  # the width of the bars\n",
    "multiplier = 0\n",
    "\n",
    "for pol, ipc in pol_ipc.items():\n",
    "    offset = width * multiplier\n",
    "    rects = ax.bar(x + offset, ipc, width, label=pol)\n",
    "    multiplier += 1\n",
    "\n",
    "ax.set_ylabel('IPC')\n",
    "ax.set_title('IPC')\n",
    "ax.set_xticks(x + width, list(map(lambda b : b.split('.')[0], benches)))\n",
    "ax.legend(loc='upper left')\n",
    "\n",
    "plt.show()"
   ]
  },
  {
   "cell_type": "code",
   "execution_count": 10,
   "metadata": {},
   "outputs": [
    {
     "data": {
      "image/png": "[encoded data removed]",
      "text/plain": [
       "<Figure size 1080x576 with 1 Axes>"
      ]
     },
     "metadata": {
      "needs_background": "light"
     },
     "output_type": "display_data"
    }
   ],
   "source": [
    "benches = list(results[politics[0]])\n",
    "pol_ipc = {}\n",
    "for pol, metrics in results.items():\n",
    "    pol_ipc[pol] = []\n",
    "    for bench in benches:\n",
    "        pol_ipc[pol].append(results[pol][bench]['hitrate'])\n",
    "benches.append('gmean')\n",
    "for pol in pol_ipc:\n",
    "    gmean = geomean(pol_ipc[pol])\n",
    "    pol_ipc[pol].append(gmean)\n",
    "\n",
    "fig, ax =  plt.subplots()\n",
    "fig.set_figwidth(15)\n",
    "fig.set_figheight(8)\n",
    "ax.grid()\n",
    "x = np.arange(len(benches))\n",
    "width = 0.25  # the width of the bars\n",
    "multiplier = 0\n",
    "\n",
    "for pol, ipc in pol_ipc.items():\n",
    "    offset = width * multiplier\n",
    "    rects = ax.bar(x + offset, ipc, width, label=pol)\n",
    "    multiplier += 1\n",
    "\n",
    "ax.set_ylabel('hitrate')\n",
    "ax.set_title('hitrate')\n",
    "ax.set_xticks(x + width, list(map(lambda b : b.split('.')[0], benches)))\n",
    "ax.legend(loc='upper left')\n",
    "\n",
    "plt.show()"
   ]
  }
 ],
 "metadata": {
  "kernelspec": {
   "display_name": "Python 3",
   "language": "python",
   "name": "python3"
  },
  "language_info": {
   "codemirror_mode": {
    "name": "ipython",
    "version": 3
   },
   "file_extension": ".py",
   "mimetype": "text/x-python",
   "name": "python",
   "nbconvert_exporter": "python",
   "pygments_lexer": "ipython3",
   "version": "3.10.12"
  }
 },
 "nbformat": 4,
 "nbformat_minor": 2
}
